{
 "cells": [
  {
   "cell_type": "code",
   "execution_count": 39,
   "id": "7b3f2a62",
   "metadata": {},
   "outputs": [
    {
     "name": "stdout",
     "output_type": "stream",
     "text": [
      "Enter a letter or word: b\n",
      "B _ _ _ _ _ Good guess, almost there. You have 6 guesses remaining.\n",
      "Enter a letter or word: a\n",
      "B A _ A _ A Good guess, almost there. You have 5 guesses remaining.\n",
      "Enter a letter or word: a\n",
      "You've already guessed that. You still have 5 guesses remaining.\n",
      "Enter a letter or word: n\n",
      "Congratulations, the word was BANANA. You win!\n"
     ]
    }
   ],
   "source": [
    "word = \"Banana\".upper()\n",
    "Number_of_Turns = 7\n",
    "prev_guesses = set()\n",
    "\n",
    "while Number_of_Turns > 0 :\n",
    "    guess = input(\"Enter a letter or word: \").upper()\n",
    "    if guess in prev_guesses:\n",
    "        print(f\"You've already guessed that. You still have {Number_of_Turns} guesses remaining.\")\n",
    "    elif guess.isalpha() == False:\n",
    "        print(\"Please guess a letter or word.\")\n",
    "    elif len(guess)>1:\n",
    "        if guess == word:\n",
    "            print(f\"Congratulations, the word was {word}. You win!\")\n",
    "            break\n",
    "        else:\n",
    "            Number_of_Turns -= 1\n",
    "            prev_guesses.add(guess)\n",
    "            print(f\"That is incorrect. You have {Number_of_Turns} guesses remaining.\")\n",
    "    else:\n",
    "        if guess in list(word):\n",
    "            prev_guesses.add(guess)\n",
    "            if set(word).issubset(prev_guesses) == True:\n",
    "                print(f\"Congratulations, the word was {word}. You win!\")\n",
    "                break\n",
    "            else:\n",
    "                Number_of_Turns -= 1\n",
    "                for c in range(0,len(word)):\n",
    "                    if word[c] in prev_guesses:\n",
    "                        print(word[c], end=\" \")\n",
    "                    else:\n",
    "                        print(\"_\", end=\" \")\n",
    "                print(f\"Good guess, almost there. You have {Number_of_Turns} guesses remaining.\")\n",
    "        else:\n",
    "            Number_of_Turns -= 1\n",
    "            prev_guesses.add(guess)\n",
    "            print(f\"That is incorrect. You have {Number_of_Turns} guesses remaining.\")"
   ]
  },
  {
   "cell_type": "code",
   "execution_count": null,
   "id": "70934c8d",
   "metadata": {},
   "outputs": [
    {
     "name": "stdout",
     "output_type": "stream",
     "text": [
      "Enter a letter or word: a\n",
      "You've already guessed that. You still have 5 guesses remaining.\n",
      "Enter a letter or word: b\n",
      "You've already guessed that. You still have 5 guesses remaining.\n",
      "Enter a letter or word: c\n",
      "That is incorrect. You have 4 guesses remaining.\n",
      "Enter a letter or word: 3\n",
      "Please guess a letter or word.\n",
      "Enter a letter or word: 4\n",
      "Please guess a letter or word.\n"
     ]
    }
   ],
   "source": []
  },
  {
   "cell_type": "code",
   "execution_count": null,
   "id": "1a39799d",
   "metadata": {},
   "outputs": [],
   "source": []
  }
 ],
 "metadata": {
  "kernelspec": {
   "display_name": "Python 3 (ipykernel)",
   "language": "python",
   "name": "python3"
  },
  "language_info": {
   "codemirror_mode": {
    "name": "ipython",
    "version": 3
   },
   "file_extension": ".py",
   "mimetype": "text/x-python",
   "name": "python",
   "nbconvert_exporter": "python",
   "pygments_lexer": "ipython3",
   "version": "3.7.13"
  }
 },
 "nbformat": 4,
 "nbformat_minor": 5
}
